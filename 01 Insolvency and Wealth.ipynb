{
  "nbformat": 4,
  "nbformat_minor": 0,
  "metadata": {
    "colab": {
      "provenance": [],
      "authorship_tag": "ABX9TyNvq/EsxWeKppK+3uzdFvXe",
      "include_colab_link": true
    },
    "kernelspec": {
      "name": "python3",
      "display_name": "Python 3"
    },
    "language_info": {
      "name": "python"
    }
  },
  "cells": [
    {
      "cell_type": "markdown",
      "metadata": {
        "id": "view-in-github",
        "colab_type": "text"
      },
      "source": [
        "<a href=\"https://colab.research.google.com/github/amritanshkm/Old-Money/blob/main/01%20Insolvency%20and%20Wealth.ipynb\" target=\"_parent\"><img src=\"https://colab.research.google.com/assets/colab-badge.svg\" alt=\"Open In Colab\"/></a>"
      ]
    },
    {
      "cell_type": "markdown",
      "source": [
        "#AFSA Insolvency and Wealth Data\n",
        "\n",
        "Using the AFSA data, we will analyse the relationship the relationship between insolvency/bankruptcy and wealth distribution. This process includes:\n",
        "\n",
        "1. Data Preparation\n",
        "2. Exploratory Data Analysis\n",
        "3. Generating visualisations, outputs, and observations\n"
      ],
      "metadata": {
        "id": "qR0_Io_zMHGT"
      }
    },
    {
      "cell_type": "markdown",
      "source": [
        "#Data Preparation"
      ],
      "metadata": {
        "id": "6ZMBhGCgM8UB"
      }
    },
    {
      "cell_type": "code",
      "execution_count": null,
      "metadata": {
        "id": "hteKewXQK9af"
      },
      "outputs": [],
      "source": []
    },
    {
      "cell_type": "markdown",
      "source": [
        "#Exploratory Data Analysis"
      ],
      "metadata": {
        "id": "vCzRqGvYM_1t"
      }
    },
    {
      "cell_type": "code",
      "source": [],
      "metadata": {
        "id": "WmE4PPeINEPh"
      },
      "execution_count": null,
      "outputs": []
    },
    {
      "cell_type": "markdown",
      "source": [
        "#Outputs"
      ],
      "metadata": {
        "id": "f8VBrZRJNEn3"
      }
    },
    {
      "cell_type": "code",
      "source": [],
      "metadata": {
        "id": "1WA_mjZINKKC"
      },
      "execution_count": null,
      "outputs": []
    },
    {
      "cell_type": "markdown",
      "source": [
        "#Observations and Summary"
      ],
      "metadata": {
        "id": "ktR-DAi6NNDp"
      }
    },
    {
      "cell_type": "code",
      "source": [],
      "metadata": {
        "id": "BAEadSyzNQr8"
      },
      "execution_count": null,
      "outputs": []
    }
  ]
}